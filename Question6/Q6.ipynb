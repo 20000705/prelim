{
 "cells": [
  {
   "cell_type": "code",
   "execution_count": 1,
   "id": "4ac0e56a-f8a3-4fb8-a87f-47781e340370",
   "metadata": {},
   "outputs": [],
   "source": [
    "import pandas as pd\n",
    "import numpy as np\n",
    "import matplotlib.pyplot as plt\n",
    "from math import lgamma, log\n",
    "from scipy.special import gammaln"
   ]
  },
  {
   "cell_type": "markdown",
   "id": "b527ad35-cbd6-436b-bef0-ec888cd868bf",
   "metadata": {},
   "source": [
    "### Task1 (a)"
   ]
  },
  {
   "cell_type": "code",
   "execution_count": 2,
   "id": "5f690099-fb52-47c2-81f8-457528440367",
   "metadata": {},
   "outputs": [
    {
     "name": "stderr",
     "output_type": "stream",
     "text": [
      "/var/folders/tl/v6npptpd03n4cv7pcfzbqs6h0000gn/T/ipykernel_54380/3792862751.py:3: FutureWarning: The 'delim_whitespace' keyword in pd.read_csv is deprecated and will be removed in a future version. Use ``sep='\\s+'`` instead\n",
      "  df = pd.read_csv(file_path, comment='#', delim_whitespace=True, names=['b1', 'b2', 'r1', 'r2'])\n"
     ]
    }
   ],
   "source": [
    "# Read the dataset\n",
    "file_path = \"prelim2025data.txt\"\n",
    "df = pd.read_csv(file_path, comment='#', delim_whitespace=True, names=['b1', 'b2', 'r1', 'r2'])"
   ]
  },
  {
   "cell_type": "code",
   "execution_count": 3,
   "id": "400ae004-6994-4d9d-a25f-b275f73728f1",
   "metadata": {},
   "outputs": [
    {
     "data": {
      "text/html": [
       "<div>\n",
       "<style scoped>\n",
       "    .dataframe tbody tr th:only-of-type {\n",
       "        vertical-align: middle;\n",
       "    }\n",
       "\n",
       "    .dataframe tbody tr th {\n",
       "        vertical-align: top;\n",
       "    }\n",
       "\n",
       "    .dataframe thead th {\n",
       "        text-align: right;\n",
       "    }\n",
       "</style>\n",
       "<table border=\"1\" class=\"dataframe\">\n",
       "  <thead>\n",
       "    <tr style=\"text-align: right;\">\n",
       "      <th></th>\n",
       "      <th>b1</th>\n",
       "      <th>b2</th>\n",
       "      <th>r1</th>\n",
       "      <th>r2</th>\n",
       "    </tr>\n",
       "  </thead>\n",
       "  <tbody>\n",
       "    <tr>\n",
       "      <th>0</th>\n",
       "      <td>6</td>\n",
       "      <td>2</td>\n",
       "      <td>2</td>\n",
       "      <td>4</td>\n",
       "    </tr>\n",
       "    <tr>\n",
       "      <th>1</th>\n",
       "      <td>4</td>\n",
       "      <td>6</td>\n",
       "      <td>3</td>\n",
       "      <td>6</td>\n",
       "    </tr>\n",
       "    <tr>\n",
       "      <th>2</th>\n",
       "      <td>4</td>\n",
       "      <td>6</td>\n",
       "      <td>3</td>\n",
       "      <td>5</td>\n",
       "    </tr>\n",
       "    <tr>\n",
       "      <th>3</th>\n",
       "      <td>6</td>\n",
       "      <td>6</td>\n",
       "      <td>5</td>\n",
       "      <td>5</td>\n",
       "    </tr>\n",
       "    <tr>\n",
       "      <th>4</th>\n",
       "      <td>1</td>\n",
       "      <td>5</td>\n",
       "      <td>6</td>\n",
       "      <td>2</td>\n",
       "    </tr>\n",
       "  </tbody>\n",
       "</table>\n",
       "</div>"
      ],
      "text/plain": [
       "   b1  b2  r1  r2\n",
       "0   6   2   2   4\n",
       "1   4   6   3   6\n",
       "2   4   6   3   5\n",
       "3   6   6   5   5\n",
       "4   1   5   6   2"
      ]
     },
     "execution_count": 3,
     "metadata": {},
     "output_type": "execute_result"
    }
   ],
   "source": [
    "df.head()"
   ]
  },
  {
   "cell_type": "code",
   "execution_count": 4,
   "id": "e5f54fcb-b1a5-4280-b3e9-b7219ab08767",
   "metadata": {},
   "outputs": [
    {
     "data": {
      "text/html": [
       "<div>\n",
       "<style scoped>\n",
       "    .dataframe tbody tr th:only-of-type {\n",
       "        vertical-align: middle;\n",
       "    }\n",
       "\n",
       "    .dataframe tbody tr th {\n",
       "        vertical-align: top;\n",
       "    }\n",
       "\n",
       "    .dataframe thead th {\n",
       "        text-align: right;\n",
       "    }\n",
       "</style>\n",
       "<table border=\"1\" class=\"dataframe\">\n",
       "  <thead>\n",
       "    <tr style=\"text-align: right;\">\n",
       "      <th></th>\n",
       "      <th>b1</th>\n",
       "      <th>b2</th>\n",
       "      <th>r1</th>\n",
       "      <th>r2</th>\n",
       "    </tr>\n",
       "  </thead>\n",
       "  <tbody>\n",
       "    <tr>\n",
       "      <th>count</th>\n",
       "      <td>28.000000</td>\n",
       "      <td>28.000000</td>\n",
       "      <td>28.000000</td>\n",
       "      <td>28.000000</td>\n",
       "    </tr>\n",
       "    <tr>\n",
       "      <th>mean</th>\n",
       "      <td>3.357143</td>\n",
       "      <td>3.964286</td>\n",
       "      <td>3.285714</td>\n",
       "      <td>4.107143</td>\n",
       "    </tr>\n",
       "    <tr>\n",
       "      <th>std</th>\n",
       "      <td>1.704336</td>\n",
       "      <td>1.477790</td>\n",
       "      <td>1.487158</td>\n",
       "      <td>1.499118</td>\n",
       "    </tr>\n",
       "    <tr>\n",
       "      <th>min</th>\n",
       "      <td>1.000000</td>\n",
       "      <td>2.000000</td>\n",
       "      <td>1.000000</td>\n",
       "      <td>2.000000</td>\n",
       "    </tr>\n",
       "    <tr>\n",
       "      <th>25%</th>\n",
       "      <td>2.000000</td>\n",
       "      <td>3.000000</td>\n",
       "      <td>2.000000</td>\n",
       "      <td>3.000000</td>\n",
       "    </tr>\n",
       "    <tr>\n",
       "      <th>50%</th>\n",
       "      <td>3.000000</td>\n",
       "      <td>4.000000</td>\n",
       "      <td>3.000000</td>\n",
       "      <td>4.000000</td>\n",
       "    </tr>\n",
       "    <tr>\n",
       "      <th>75%</th>\n",
       "      <td>5.000000</td>\n",
       "      <td>5.000000</td>\n",
       "      <td>4.250000</td>\n",
       "      <td>5.250000</td>\n",
       "    </tr>\n",
       "    <tr>\n",
       "      <th>max</th>\n",
       "      <td>6.000000</td>\n",
       "      <td>6.000000</td>\n",
       "      <td>6.000000</td>\n",
       "      <td>6.000000</td>\n",
       "    </tr>\n",
       "  </tbody>\n",
       "</table>\n",
       "</div>"
      ],
      "text/plain": [
       "              b1         b2         r1         r2\n",
       "count  28.000000  28.000000  28.000000  28.000000\n",
       "mean    3.357143   3.964286   3.285714   4.107143\n",
       "std     1.704336   1.477790   1.487158   1.499118\n",
       "min     1.000000   2.000000   1.000000   2.000000\n",
       "25%     2.000000   3.000000   2.000000   3.000000\n",
       "50%     3.000000   4.000000   3.000000   4.000000\n",
       "75%     5.000000   5.000000   4.250000   5.250000\n",
       "max     6.000000   6.000000   6.000000   6.000000"
      ]
     },
     "execution_count": 4,
     "metadata": {},
     "output_type": "execute_result"
    }
   ],
   "source": [
    "df.describe()"
   ]
  },
  {
   "cell_type": "code",
   "execution_count": 13,
   "id": "e415243f-0078-4c93-b065-8f4f81ed9aba",
   "metadata": {},
   "outputs": [
    {
     "name": "stdout",
     "output_type": "stream",
     "text": [
      "   b1  b2  r1  r2\n",
      "1   5   0   4   0\n",
      "2   5   6   4   6\n",
      "3   5   6   9   4\n",
      "4   5   5   4   6\n",
      "5   4   5   5   5\n",
      "6   4   6   2   7\n"
     ]
    }
   ],
   "source": [
    "# Count faces for each die (1-6)\n",
    "face_counts = {}\n",
    "for die in ['b1', 'b2', 'r1', 'r2']:\n",
    "    counts = df[die].value_counts()\n",
    "    counts = counts.reindex(range(1,7), fill_value=0)\n",
    "    face_counts[die] = counts\n",
    "\n",
    "face_counts_df = pd.DataFrame(face_counts)\n",
    "print(face_counts_df)"
   ]
  },
  {
   "cell_type": "markdown",
   "id": "a11e9df0-12e6-45a2-967f-1dd02b819da9",
   "metadata": {},
   "source": [
    "### Task1 (b)"
   ]
  },
  {
   "cell_type": "markdown",
   "id": "3f0ff102-d4f8-460b-919f-ae9eb00a4e6f",
   "metadata": {},
   "source": [
    "The expected value of a fair six-sided die is calculated as:\n",
    "\n",
    "$\n",
    "E[X] = \\sum_{i=1}^{6} i \\cdot \\frac{1}{6} = \\frac{1 + 2 + 3 + 4 + 5 + 6}{6} = \\frac{21}{6} = 3.5\n",
    "$\n",
    "\n",
    "So, the average outcome is 3.5.\n",
    "\n",
    "For blue1 die, it shows mean of 3.35, closed to 3.5. Min and Max are respectively 1 and 6. Based on the balanced distribution and relatively normal spread, it is likely fair.\n",
    "\n",
    "For blue2 die, it shows mean of 3.96, larger than 3.5. There is no 1 in this die due to min of 2. This is relatively unusual. Also, 25%, 50% and 75% tend to be higher. So I think this die may be tampered.\n",
    "\n",
    "For red1 die, it shows mean of 3.29, also closed to 3.5. The range is also from 1 to 6 and no obviously skewed. So this is likely to be fair.\n",
    "\n",
    "For red2 die, it shows mean of 4.11, higher than 3.5. Min is 2, showing no 1 in many rolls. It's weirld. The die shows high numbers in 25%, 50% and 75%. So, this die also may be tampered."
   ]
  },
  {
   "cell_type": "markdown",
   "id": "cc92b334-6cc8-4376-91f4-ba3f235ea18c",
   "metadata": {},
   "source": [
    "### Task2 (a) and (b) Please see attached paper handwriting."
   ]
  },
  {
   "cell_type": "markdown",
   "id": "b720dd85-1883-4233-a458-42379892d2f9",
   "metadata": {},
   "source": [
    "### Task2 (c)"
   ]
  },
  {
   "cell_type": "code",
   "execution_count": 8,
   "id": "6d187383-0e9e-4977-ac82-c72685c27321",
   "metadata": {},
   "outputs": [
    {
     "name": "stdout",
     "output_type": "stream",
     "text": [
      "B1 counts = [np.int64(5), np.int64(5), np.int64(5), np.int64(5), np.int64(4), np.int64(4)], H2 = -12.377232137617941\n",
      "B2 counts = [0, np.int64(6), np.int64(6), np.int64(5), np.int64(5), np.int64(6)], H2 = -12.377232137617938\n",
      "R1 counts = [np.int64(4), np.int64(4), np.int64(9), np.int64(4), np.int64(5), np.int64(2)], H2 = -12.377232137617938\n",
      "R2 counts = [0, np.int64(6), np.int64(4), np.int64(6), np.int64(5), np.int64(7)], H2 = -12.377232137617938\n",
      "\n",
      "Log Marginal Likelihoods for each die and hypothesis:\n",
      "Die Fair (H1) Dirichlet (H2) Two sixes, no ones (H3) Two fives, no ones (H4)                 Verdict\n",
      " B1     -7.79         -12.38                    -inf                    -inf               Fair (H1)\n",
      " B2    -11.59         -12.38                   -7.43                   -8.13 Two sixes, no ones (H3)\n",
      " R1    -10.10         -12.38                    -inf                    -inf               Fair (H1)\n",
      " R2    -11.93         -12.38                   -7.08                   -8.46 Two sixes, no ones (H3)\n"
     ]
    }
   ],
   "source": [
    "# Log multinomial coefficient\n",
    "def log_multinomial_coef(counts):\n",
    "    N = sum(counts)\n",
    "    return gammaln(N + 1) - sum([gammaln(c + 1) for c in counts])\n",
    "\n",
    "\n",
    "# H1: Fair die\n",
    "def log_ml_h1(counts):\n",
    "    term1 = log_multinomial_coef(counts)\n",
    "    term2 = sum([c * log(1/6) for c in counts])\n",
    "    return term1 + term2\n",
    "\n",
    "# H2: Dirichlet-multinomial with uniform prior\n",
    "def log_ml_h2(counts):\n",
    "    alpha = [1] * 6\n",
    "    sum_alpha = sum(alpha)\n",
    "    sum_counts = sum(counts)\n",
    "\n",
    "    term0 = log_multinomial_coef(counts)\n",
    "    term1 = gammaln(sum_alpha) - gammaln(sum_counts + sum_alpha)\n",
    "    term2 = sum([gammaln(n_i + 1) for n_i in counts])\n",
    "    return term0 + term1 + term2\n",
    "\n",
    "# H3: Tampered die (two sixes, no ones)\n",
    "def log_ml_h3(counts):\n",
    "    theta = [0, 1/6, 1/6, 1/6, 1/6, 2/6]\n",
    "    if counts[0] > 0:\n",
    "        return -float('inf')\n",
    "    term2 = sum([c * log(theta[i]) for i, c in enumerate(counts) if theta[i] > 0])\n",
    "    return log_multinomial_coef(counts) + term2\n",
    "\n",
    "# H4: Tampered die (two fives, no ones)\n",
    "def log_ml_h4(counts):\n",
    "    theta = [0, 1/6, 1/6, 1/6, 2/6, 1/6]\n",
    "    if counts[0] > 0:\n",
    "        return -float('inf')\n",
    "    term2 = sum([c * log(theta[i]) for i, c in enumerate(counts) if theta[i] > 0])\n",
    "    return log_multinomial_coef(counts) + term2\n",
    "\n",
    "# Evaluate each die\n",
    "results = []\n",
    "for die in ['b1', 'b2', 'r1', 'r2']:\n",
    "    counts = [df[die].value_counts().get(i, 0) for i in range(1, 7)]\n",
    "\n",
    "    print(f\"{die.upper()} counts = {counts}, H2 = {log_ml_h2(counts)}\")\n",
    "\n",
    "    # Compute log marginal likelihoods\n",
    "    logml_h1 = log_ml_h1(counts)\n",
    "    logml_h2 = log_ml_h2(counts)\n",
    "    logml_h3 = log_ml_h3(counts)\n",
    "    logml_h4 = log_ml_h4(counts)\n",
    "\n",
    "    logmls = {\n",
    "        'Fair (H1)': logml_h1,\n",
    "        'Dirichlet (H2)': logml_h2,\n",
    "        'Two sixes, no ones (H3)': logml_h3,\n",
    "        'Two fives, no ones (H4)': logml_h4\n",
    "    }\n",
    "    best_hyp = max(logmls, key=logmls.get)\n",
    "\n",
    "    results.append({\n",
    "        'Die': die.upper(),\n",
    "        'Fair (H1)': f\"{logml_h1:.2f}\",\n",
    "        'Dirichlet (H2)': f\"{logml_h2:.2f}\",\n",
    "        'Two sixes, no ones (H3)': f\"{logml_h3:.2f}\",\n",
    "        'Two fives, no ones (H4)': f\"{logml_h4:.2f}\",\n",
    "        'Verdict': best_hyp\n",
    "    })\n",
    "\n",
    "# Display results\n",
    "results_df = pd.DataFrame(results)\n",
    "print(\"\\nLog Marginal Likelihoods for each die and hypothesis:\")\n",
    "print(results_df.to_string(index=False))"
   ]
  },
  {
   "cell_type": "markdown",
   "id": "b6787e4d-ccea-48a3-a164-313cb91dc491",
   "metadata": {},
   "source": [
    "### Task2 (d) Discussion"
   ]
  },
  {
   "cell_type": "markdown",
   "id": "45de320f-3579-4798-b06d-da67e249366d",
   "metadata": {},
   "source": [
    "Blue1 and red1 dice are seen as fair dice (H1) since they both have ones so eliminate H3 and H4. Also, -7.79 and -10.10 (H1) are higher than -12.38 (H2) so they are fair.\n",
    "\n",
    "Blue2 and red2 dice are classified as tampered for H3 (two sixes, no ones) since both show zero ones, making H3/H4 viable. B2: H3 = -7.43 vs H4 = -8.13 and R2: H3 = -7.08 vs H4 = -8.46 show strong preference for H3 over H4. Also, Higher sixes counts (B2:6, R2:7) match H3's θ₆ = 2/6."
   ]
  },
  {
   "cell_type": "code",
   "execution_count": null,
   "id": "ef101218-092c-4230-a8d1-70d0d60b3240",
   "metadata": {},
   "outputs": [],
   "source": []
  },
  {
   "cell_type": "code",
   "execution_count": null,
   "id": "355bfb1f-5bca-4fb1-8eed-1a5eea3c12ab",
   "metadata": {},
   "outputs": [],
   "source": []
  }
 ],
 "metadata": {
  "kernelspec": {
   "display_name": "Python 3.11 (py311)",
   "language": "python",
   "name": "py311"
  },
  "language_info": {
   "codemirror_mode": {
    "name": "ipython",
    "version": 3
   },
   "file_extension": ".py",
   "mimetype": "text/x-python",
   "name": "python",
   "nbconvert_exporter": "python",
   "pygments_lexer": "ipython3",
   "version": "3.11.11"
  }
 },
 "nbformat": 4,
 "nbformat_minor": 5
}
